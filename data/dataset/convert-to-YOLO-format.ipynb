{
 "cells": [
  {
   "cell_type": "code",
   "execution_count": 1,
   "metadata": {},
   "outputs": [],
   "source": [
    "import os\n",
    "import xml.etree.ElementTree as ET\n",
    "## class names\n",
    "classes = {\"head\":0, \"has_safety_helmet\":1, \"mask\":2}"
   ]
  },
  {
   "cell_type": "code",
   "execution_count": 2,
   "metadata": {},
   "outputs": [],
   "source": [
    "root = ET.parse('annotations.xml').getroot()\n",
    "img_ids = []\n",
    "for type_tag in root.findall('image'):\n",
    "    # get image specs\n",
    "    img_id = type_tag.get('id')\n",
    "    img_width = type_tag.get('width')\n",
    "    img_height = type_tag.get('height')\n",
    "    img_box = type_tag.findall('box')\n",
    "    dw = 1/float(img_width)\n",
    "    dh = 1/float(img_height)\n",
    "    rows = []\n",
    "    ## get \"head\" for image\n",
    "    for box in img_box:\n",
    "        if box.get('label') == \"head\":\n",
    "            img_ids.append(int(img_id))\n",
    "            # get x,y co-ordinates\n",
    "            xtl = float(box.get('xtl'))\n",
    "            ytl = float(box.get('ytl'))\n",
    "            xbr = float(box.get('xbr'))\n",
    "            ybr = float(box.get('ybr'))\n",
    "            # center\n",
    "            x = ((xtl + xbr)/2)*dw\n",
    "            y = ((ytl + ybr)/2)*dh\n",
    "            w = abs(xbr - xtl)*dw\n",
    "            h = abs(ybr - ytl)*dh\n",
    "            ## head bounding box co-ordinates \n",
    "            head = str(0) + \" \" + str(x) + \" \" + str(y) + \" \" + str(w) + \" \" + str(h)\n",
    "            rows.append(head)\n",
    "            # get labels\n",
    "            labels = box.findall('attribute')\n",
    "            for label in labels:\n",
    "                attrib = classes[label.get('name')]\n",
    "                cls = label.text\n",
    "                if cls == \"yes\":\n",
    "                    row = str(attrib) + \" \" + str(x) + \" \" + str(y) + \" \" + str(w) + \" \" + str(h)\n",
    "                    rows.append(row)\n",
    "    \n",
    "    # put into .txt file\n",
    "    if len(rows) != 0:\n",
    "        fname = os.path.join(os.getcwd(),\"labels\", img_id + \".txt\")\n",
    "        f = open(fname, \"w\")\n",
    "        f.writelines(\"\\n\".join(rows))\n",
    "        f.close()"
   ]
  },
  {
   "cell_type": "code",
   "execution_count": 3,
   "metadata": {},
   "outputs": [
    {
     "name": "stdout",
     "output_type": "stream",
     "text": [
      "70\n"
     ]
    }
   ],
   "source": [
    "## create empty \".txt\" files for images without \"head\" objects\n",
    "\n",
    "# store\n",
    "null_obj_ids = []\n",
    "for img in os.listdir(\"images\"):\n",
    "    if img.endswith(\".jpg\"):\n",
    "        idx = int(img.split(\".\")[0])\n",
    "        if idx not in img_ids:\n",
    "            null_obj_ids.append(idx)\n",
    "print(len(null_obj_ids))\n",
    "\n",
    "for idx in null_obj_ids:\n",
    "    fname = os.path.join(\"labels\", str(idx)+\".txt\")\n",
    "    f = open(fname, \"w\")\n",
    "    f.close()"
   ]
  }
 ],
 "metadata": {
  "kernelspec": {
   "display_name": "Python 3",
   "language": "python",
   "name": "python3"
  },
  "language_info": {
   "codemirror_mode": {
    "name": "ipython",
    "version": 3
   },
   "file_extension": ".py",
   "mimetype": "text/x-python",
   "name": "python",
   "nbconvert_exporter": "python",
   "pygments_lexer": "ipython3",
   "version": "3.6.9"
  }
 },
 "nbformat": 4,
 "nbformat_minor": 4
}
