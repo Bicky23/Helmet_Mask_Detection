{
 "cells": [
  {
   "cell_type": "code",
   "execution_count": 11,
   "metadata": {},
   "outputs": [],
   "source": [
    "import os\n",
    "from shutil import copy2, copyfile"
   ]
  },
  {
   "cell_type": "code",
   "execution_count": 12,
   "metadata": {},
   "outputs": [
    {
     "name": "stdout",
     "output_type": "stream",
     "text": [
      "images/110.jpg\n",
      "images/284.jpg\n",
      "images/442.jpg\n",
      "images/159.jpg\n",
      "images/43.jpg\n",
      "images/39.jpg\n",
      "images/296.jpg\n",
      "images/172.jpg\n",
      "images/502.jpg\n",
      "images/46.jpg\n",
      "images/198.jpg\n",
      "images/602.jpg\n",
      "images/399.jpg\n",
      "images/180.jpg\n",
      "images/416.jpg\n",
      "images/429.jpg\n",
      "images/237.jpg\n",
      "images/604.jpg\n",
      "images/481.jpg\n",
      "images/453.jpg\n",
      "images/420.jpg\n",
      "images/336.jpg\n",
      "images/145.jpg\n",
      "images/411.jpg\n",
      "images/511.jpg\n",
      "images/517.jpg\n",
      "images/425.jpg\n",
      "images/151.jpg\n",
      "images/418.jpg\n",
      "images/82.jpg\n"
     ]
    }
   ],
   "source": [
    "path = \"images\"\n",
    "train_size = 560\n",
    "start = 0\n",
    "img_train = \"images/train\"\n",
    "img_valid = \"images/valid\"\n",
    "labels_train = \"labels/train\"\n",
    "labels_valid = \"labels/valid\"\n",
    "\n",
    "\n",
    "for file in os.listdir(path):\n",
    "    if file.endswith(\".jpg\"):\n",
    "        fpath = os.path.join(path, file)\n",
    "        n_fpath = os.path.join(\"./dataset\", fpath)\n",
    "        if start <= train_size:\n",
    "            ## copy to \"train\" directory\n",
    "            f = open(\"train.txt\", \"a\")\n",
    "            f.write(n_fpath+\"\\n\")\n",
    "            f.close()\n",
    "            ## copy to \"images/train\"\n",
    "            copy2(fpath, img_train)\n",
    "            ## copy to \"labels/train\"\n",
    "            fname = file.split(\".\")[0] + \".txt\"\n",
    "            if fname in os.listdir(\"labels\"):\n",
    "                t_path = os.path.join(\"labels\", fname)\n",
    "                copy2(t_path, labels_train)\n",
    "            \n",
    "        else:\n",
    "            ## copy to \"train\" directory\n",
    "            f = open(\"valid.txt\", \"a\")\n",
    "            f.write(n_fpath+\"\\n\")\n",
    "            f.close()\n",
    "            ## copy to \"images/valid\"\n",
    "            print(fpath)\n",
    "            copy2(fpath, img_valid)\n",
    "            ## copy to \"labels/valid\"\n",
    "            fname = file.split(\".\")[0] + \".txt\"\n",
    "            if fname in os.listdir(\"labels\"):\n",
    "                t_path = os.path.join(\"labels\", fname)\n",
    "                copy2(t_path, labels_valid)\n",
    "        \n",
    "        start += 1"
   ]
  },
  {
   "cell_type": "code",
   "execution_count": null,
   "metadata": {},
   "outputs": [],
   "source": []
  }
 ],
 "metadata": {
  "kernelspec": {
   "display_name": "Python 3",
   "language": "python",
   "name": "python3"
  },
  "language_info": {
   "codemirror_mode": {
    "name": "ipython",
    "version": 3
   },
   "file_extension": ".py",
   "mimetype": "text/x-python",
   "name": "python",
   "nbconvert_exporter": "python",
   "pygments_lexer": "ipython3",
   "version": "3.6.9"
  }
 },
 "nbformat": 4,
 "nbformat_minor": 4
}
